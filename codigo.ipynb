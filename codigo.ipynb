{
 "cells": [
  {
   "cell_type": "code",
   "execution_count": 55,
   "metadata": {},
   "outputs": [],
   "source": [
    "import pandas as pd\n",
    "import yfinance as yf"
   ]
  },
  {
   "cell_type": "code",
   "execution_count": null,
   "metadata": {},
   "outputs": [],
   "source": [
    "with open(\"Carteira.txt\", \"r\") as arquivo:\n",
    "    texto = arquivo.readlines()\n",
    "\n",
    "carteira = {}\n",
    "\n",
    "for linha in texto:\n",
    "    ticker, valor = linha.split(\"-\")\n",
    "    ticker = f\"{ticker.strip()}.SA\"\n",
    "    valor = float(valor.strip())\n",
    "    print(ticker, valor)\n",
    "    carteira[ticker] = valor\n",
    "print(carteira)\n",
    "\n",
    "# ^BVSP\n",
    "# ITUB4.SA"
   ]
  },
  {
   "cell_type": "code",
   "execution_count": null,
   "metadata": {},
   "outputs": [],
   "source": [
    "acao = \"ITUB4.SA\"\n",
    "ativos = list(carteira.keys())\n",
    "ativos.append(\"^BVSP\")\n",
    "data_inicial = \"2024-01-01\"\n",
    "data_final = \"2024-12-15\"\n",
    "\n",
    "tabela_cot = yf.download(ativos, start=data_inicial, end=data_final)\n",
    "tabela_cot = tabela_cot[\"Close\"]\n",
    "display(tabela_cot)"
   ]
  },
  {
   "cell_type": "code",
   "execution_count": null,
   "metadata": {},
   "outputs": [],
   "source": [
    "rentabilidades = {}\n",
    "for ativo in tabela_cot.columns:\n",
    "    rentabilidade = float(tabela_cot[ativo].iloc[-1] / tabela_cot[ativo].iloc[0])\n",
    "    rentabilidades[ativo] = rentabilidade\n",
    "print(rentabilidades)"
   ]
  },
  {
   "cell_type": "code",
   "execution_count": null,
   "metadata": {},
   "outputs": [],
   "source": [
    "valor_inicial = sum(carteira.values())\n",
    "print(valor_inicial)\n",
    "valor_final = sum(carteira[ativo] * rentabilidades[ativo] for ativo in carteira)\n",
    "print(valor_final)\n",
    "rentabilidade_carteira = valor_final / valor_inicial - 1\n",
    "print(f\"{rentabilidade_carteira:.1%}\")\n",
    "rentabilidade_indice = rentabilidades[\"^BVSP\"] - 1\n",
    "print(f\"{rentabilidade_indice:.1%}\")\n"
   ]
  }
 ],
 "metadata": {
  "kernelspec": {
   "display_name": "Python 3",
   "language": "python",
   "name": "python3"
  },
  "language_info": {
   "codemirror_mode": {
    "name": "ipython",
    "version": 3
   },
   "file_extension": ".py",
   "mimetype": "text/x-python",
   "name": "python",
   "nbconvert_exporter": "python",
   "pygments_lexer": "ipython3",
   "version": "3.13.1"
  }
 },
 "nbformat": 4,
 "nbformat_minor": 2
}
